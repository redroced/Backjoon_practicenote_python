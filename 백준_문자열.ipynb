{
  "nbformat": 4,
  "nbformat_minor": 0,
  "metadata": {
    "colab": {
      "provenance": [],
      "authorship_tag": "ABX9TyPM3Uj382dscKLMWF/MKc74",
      "include_colab_link": true
    },
    "kernelspec": {
      "name": "python3",
      "display_name": "Python 3"
    },
    "language_info": {
      "name": "python"
    }
  },
  "cells": [
    {
      "cell_type": "markdown",
      "metadata": {
        "id": "view-in-github",
        "colab_type": "text"
      },
      "source": [
        "<a href=\"https://colab.research.google.com/github/redroced/Backjoon_practicenote_python/blob/main/%EB%B0%B1%EC%A4%80_%EB%AC%B8%EC%9E%90%EC%97%B4.ipynb\" target=\"_parent\"><img src=\"https://colab.research.google.com/assets/colab-badge.svg\" alt=\"Open In Colab\"/></a>"
      ]
    },
    {
      "cell_type": "markdown",
      "source": [
        "### 27866번"
      ],
      "metadata": {
        "id": "ERXABW2S5HKG"
      }
    },
    {
      "cell_type": "code",
      "source": [
        "arr = input()\n",
        "n = int(input())\n",
        "\n",
        "print(arr[n-1])"
      ],
      "metadata": {
        "colab": {
          "base_uri": "https://localhost:8080/"
        },
        "id": "2-T2Owty5e23",
        "outputId": "1c97c251-a3be-4f29-f063-cb6b9f51806f"
      },
      "execution_count": 1,
      "outputs": [
        {
          "output_type": "stream",
          "name": "stdout",
          "text": [
            "Sprout\n",
            "3\n",
            "r\n"
          ]
        }
      ]
    },
    {
      "cell_type": "markdown",
      "source": [
        "### 2743번"
      ],
      "metadata": {
        "id": "MU7_8oxQ5JTr"
      }
    },
    {
      "cell_type": "code",
      "source": [
        "arr = input()\n",
        "\n",
        "print(len(arr))"
      ],
      "metadata": {
        "colab": {
          "base_uri": "https://localhost:8080/"
        },
        "id": "JhiVmgDZ5wY1",
        "outputId": "6a3ca2d6-d6b1-41e2-9e32-d85cc4a056d9"
      },
      "execution_count": 2,
      "outputs": [
        {
          "output_type": "stream",
          "name": "stdout",
          "text": [
            "pulljima\n",
            "8\n"
          ]
        }
      ]
    },
    {
      "cell_type": "markdown",
      "source": [
        "### 9086번"
      ],
      "metadata": {
        "id": "LiCX1ZKO5Msg"
      }
    },
    {
      "cell_type": "code",
      "source": [
        "T = int(input())\n",
        "for i in range(T):\n",
        "  arr = input()\n",
        "  print(arr[0],arr[len(arr)-1],sep ='')"
      ],
      "metadata": {
        "colab": {
          "base_uri": "https://localhost:8080/"
        },
        "id": "lc4Ceux26AM4",
        "outputId": "9bbaca48-a025-4cc5-ea0f-b4ab537ca9bd"
      },
      "execution_count": 13,
      "outputs": [
        {
          "output_type": "stream",
          "name": "stdout",
          "text": [
            "3\n",
            "ACDKJFOWIEGHE\n",
            "AE\n",
            "O\n",
            "OO\n",
            "AB\n",
            "AB\n"
          ]
        }
      ]
    },
    {
      "cell_type": "markdown",
      "source": [
        "### 11654번"
      ],
      "metadata": {
        "id": "RdMXRNOs5OhN"
      }
    },
    {
      "cell_type": "code",
      "source": [
        "T = input()\n",
        "print(ord(T))"
      ],
      "metadata": {
        "colab": {
          "base_uri": "https://localhost:8080/"
        },
        "id": "-u8J6Piz62ZT",
        "outputId": "7b42a0db-aedb-4676-f621-b712c06744e1"
      },
      "execution_count": 7,
      "outputs": [
        {
          "output_type": "stream",
          "name": "stdout",
          "text": [
            "A\n",
            "65\n"
          ]
        }
      ]
    },
    {
      "cell_type": "markdown",
      "source": [
        "ord() //문자를 아스키코드, chr() //아스키코드를 문자로"
      ],
      "metadata": {
        "id": "HWcHXfLj7Bdi"
      }
    },
    {
      "cell_type": "markdown",
      "source": [
        "###11720번"
      ],
      "metadata": {
        "id": "Mt96qQMo5QEe"
      }
    },
    {
      "cell_type": "code",
      "source": [
        "N = int(input())\n",
        "print(sum(map(int,input())))"
      ],
      "metadata": {
        "colab": {
          "base_uri": "https://localhost:8080/"
        },
        "id": "Clfz8XvQ7sqT",
        "outputId": "133db693-53c4-412b-f1dd-715e2133708d"
      },
      "execution_count": 8,
      "outputs": [
        {
          "output_type": "stream",
          "name": "stdout",
          "text": [
            "1\n",
            "1\n",
            "1\n"
          ]
        }
      ]
    },
    {
      "cell_type": "markdown",
      "source": [
        "c언어에서는 반복문으로 처리하지만 python에서는 함수를 통해 간단히 표현 가능"
      ],
      "metadata": {
        "id": "JnxbaMKD8V1m"
      }
    },
    {
      "cell_type": "markdown",
      "source": [
        "### 10809번"
      ],
      "metadata": {
        "id": "NtWT556U5Tc-"
      }
    },
    {
      "cell_type": "code",
      "source": [
        "S = list(input())\n",
        "c = 'abcdefghijklmnopqrstuvwxyz'\n",
        "\n",
        "for i in c:\n",
        "    if i in S:\n",
        "        print(S.index(i), end =' ')\n",
        "    else:\n",
        "        print(-1, end=' ')"
      ],
      "metadata": {
        "colab": {
          "base_uri": "https://localhost:8080/"
        },
        "id": "WWIuEWUr8cUx",
        "outputId": "e26e066f-f2ee-484a-bc55-18799a09f247"
      },
      "execution_count": 9,
      "outputs": [
        {
          "output_type": "stream",
          "name": "stdout",
          "text": [
            "baekjoon\n",
            "1 0 -1 -1 2 -1 -1 -1 -1 4 3 -1 -1 7 5 -1 -1 -1 -1 -1 -1 -1 -1 -1 -1 -1 "
          ]
        }
      ]
    },
    {
      "cell_type": "markdown",
      "source": [
        "### 2675번"
      ],
      "metadata": {
        "id": "sA5a7kcv5U9P"
      }
    },
    {
      "cell_type": "code",
      "source": [
        "T = int(input())\n",
        "for i in range(T):\n",
        "  R, S = map(str,input().split())\n",
        "  for j in range(len(S)):\n",
        "    print(S[j]*int(R), end ='')\n",
        "  print()"
      ],
      "metadata": {
        "colab": {
          "base_uri": "https://localhost:8080/"
        },
        "id": "5JjNd58o9edk",
        "outputId": "993f2fb6-9ce6-4ded-f8b7-85618e69f557"
      },
      "execution_count": 16,
      "outputs": [
        {
          "output_type": "stream",
          "name": "stdout",
          "text": [
            "2\n",
            "3 ABC\n",
            "AAABBBCCC\n",
            "5 /HTP\n",
            "/////HHHHHTTTTTPPPPP\n"
          ]
        }
      ]
    },
    {
      "cell_type": "markdown",
      "source": [
        "R,S을 str로 한번에 받고 나중에 int로 변환"
      ],
      "metadata": {
        "id": "AcuRKKDV-5AP"
      }
    },
    {
      "cell_type": "markdown",
      "source": [
        "###\t1152번"
      ],
      "metadata": {
        "id": "Xs8g3-Nc5WRa"
      }
    },
    {
      "cell_type": "code",
      "source": [
        "T = input().split()\n",
        "print(len(T))"
      ],
      "metadata": {
        "colab": {
          "base_uri": "https://localhost:8080/"
        },
        "id": "WojlH7hv_GmC",
        "outputId": "17a21b97-a6a8-4d42-80e3-1b2214ec07ad"
      },
      "execution_count": 17,
      "outputs": [
        {
          "output_type": "stream",
          "name": "stdout",
          "text": [
            "The Curious Case of Benjamin Button\n",
            "6\n"
          ]
        }
      ]
    },
    {
      "cell_type": "markdown",
      "source": [
        "### 2908번"
      ],
      "metadata": {
        "id": "fFRRWvWN5Yiu"
      }
    },
    {
      "cell_type": "code",
      "source": [
        "N1, N2 = input().split()\n",
        "N1 = N1[::-1]\n",
        "N2 = N2[::-1]\n",
        "\n",
        "print(max(int(N1),int(N2)))"
      ],
      "metadata": {
        "colab": {
          "base_uri": "https://localhost:8080/"
        },
        "id": "EgEpwVyW_qiX",
        "outputId": "c36fe138-53f0-4db1-e6ca-7b91f3353287"
      },
      "execution_count": 24,
      "outputs": [
        {
          "output_type": "stream",
          "name": "stdout",
          "text": [
            "734 893\n",
            "437\n"
          ]
        }
      ]
    },
    {
      "cell_type": "markdown",
      "source": [
        "문자열을 뒤집을 때는 (문자열이름)[::-1]을 사용(list의 경우 reverse가 가능)"
      ],
      "metadata": {
        "id": "qwdDP6xGAd2g"
      }
    },
    {
      "cell_type": "markdown",
      "source": [
        "### 5622번"
      ],
      "metadata": {
        "id": "S_HLo5Wh5aPa"
      }
    },
    {
      "cell_type": "code",
      "source": [
        "dial = ['ABC', 'DEF', 'GHI', 'JKL', 'MNO', 'PQRS', 'TUV', 'WXYZ']\n",
        "T = input()\n",
        "\n",
        "result = 0\n",
        "for char in T:\n",
        "    for i in range(len(dial)):\n",
        "        if char in dial[i]:\n",
        "            result += i + 3\n",
        "\n",
        "print(result)"
      ],
      "metadata": {
        "colab": {
          "base_uri": "https://localhost:8080/"
        },
        "id": "x1bwJOV2ApOl",
        "outputId": "7364e0fd-a8dc-4c12-915a-0697f3421697"
      },
      "execution_count": 26,
      "outputs": [
        {
          "output_type": "stream",
          "name": "stdout",
          "text": [
            "WA\n",
            "13\n"
          ]
        }
      ]
    },
    {
      "cell_type": "markdown",
      "source": [
        "### 11718번"
      ],
      "metadata": {
        "id": "7RTov46x5bkA"
      }
    },
    {
      "cell_type": "code",
      "source": [
        "while True:\n",
        "    try:\n",
        "      print(input())\n",
        "    except:\n",
        "        break"
      ],
      "metadata": {
        "colab": {
          "base_uri": "https://localhost:8080/"
        },
        "id": "jBLRVKPL5A2J",
        "outputId": "73b8ad40-3365-432a-9131-0fd30d5b799e"
      },
      "execution_count": 28,
      "outputs": [
        {
          "output_type": "stream",
          "name": "stdout",
          "text": [
            "Hello\n",
            "Hello\n",
            "Baekjoon\n",
            "Baekjoon\n",
            "Online Judge\n",
            "Online Judge\n"
          ]
        }
      ]
    },
    {
      "cell_type": "markdown",
      "source": [
        "반복문에 사용했던 try except함수 재사용"
      ],
      "metadata": {
        "id": "L4xSjMVaDGDi"
      }
    }
  ]
}