{
  "nbformat": 4,
  "nbformat_minor": 0,
  "metadata": {
    "colab": {
      "provenance": [],
      "authorship_tag": "ABX9TyMDBrv7Na6BpQzHRZTIlmGj",
      "include_colab_link": true
    },
    "kernelspec": {
      "name": "python3",
      "display_name": "Python 3"
    },
    "language_info": {
      "name": "python"
    }
  },
  "cells": [
    {
      "cell_type": "markdown",
      "metadata": {
        "id": "view-in-github",
        "colab_type": "text"
      },
      "source": [
        "<a href=\"https://colab.research.google.com/github/redroced/Backjoon_practicenote_python/blob/main/%EB%B0%B1%EC%A4%80_1%EC%B0%A8%EC%9B%90%EB%B0%B0%EC%97%B4.ipynb\" target=\"_parent\"><img src=\"https://colab.research.google.com/assets/colab-badge.svg\" alt=\"Open In Colab\"/></a>"
      ]
    },
    {
      "cell_type": "markdown",
      "source": [
        "### 10807번"
      ],
      "metadata": {
        "id": "xt4MjUecqI0N"
      }
    },
    {
      "cell_type": "code",
      "execution_count": 4,
      "metadata": {
        "colab": {
          "base_uri": "https://localhost:8080/"
        },
        "id": "jopte2eMqF8I",
        "outputId": "a4890077-d30f-4f47-9d6a-ad56eb8d3a73"
      },
      "outputs": [
        {
          "output_type": "stream",
          "name": "stdout",
          "text": [
            "11\n",
            "1 4 1 2 4 2 4 2 3 4 4\n",
            "2\n",
            "3\n"
          ]
        }
      ],
      "source": [
        "N = int(input())\n",
        "arr = list(map(int, input().split()))\n",
        "v = int(input())\n",
        "\n",
        "sum = 0\n",
        "for i in range(N):\n",
        "  if arr[i] == v:\n",
        "    sum+=1\n",
        "\n",
        "print(sum)"
      ]
    },
    {
      "cell_type": "markdown",
      "source": [
        "list(map(int, input().split()))을 통해 1차원 int 배열을 입력받는다."
      ],
      "metadata": {
        "id": "MwHywgBur-3p"
      }
    },
    {
      "cell_type": "markdown",
      "source": [
        "### 10871번"
      ],
      "metadata": {
        "id": "S0VjdeAssFl-"
      }
    },
    {
      "cell_type": "code",
      "source": [
        "N, X = map(int, input().split())\n",
        "arr = list(map(int, input().split()))\n",
        "\n",
        "for i in range(N):\n",
        "  if arr[i] < X:\n",
        "    print(arr[i], end=\" \")"
      ],
      "metadata": {
        "colab": {
          "base_uri": "https://localhost:8080/"
        },
        "id": "ifG9cIWRsFSr",
        "outputId": "447445c1-4260-4971-a5e1-0691449be6d2"
      },
      "execution_count": 6,
      "outputs": [
        {
          "output_type": "stream",
          "name": "stdout",
          "text": [
            "10 5\n",
            "1 10 4 9 2 3 8 5 7 6\n",
            "1 4 2 3 "
          ]
        }
      ]
    },
    {
      "cell_type": "markdown",
      "source": [
        "### 10818번"
      ],
      "metadata": {
        "id": "5hPGQhMztK-3"
      }
    },
    {
      "cell_type": "code",
      "source": [
        "N = int(input())\n",
        "arr = list(map(int, input().split()))\n",
        "\n",
        "print(min(arr), max(arr))"
      ],
      "metadata": {
        "colab": {
          "base_uri": "https://localhost:8080/"
        },
        "id": "QT7RWjDJtO0V",
        "outputId": "362223a2-5beb-4e2e-e6b1-3dd34d3728f1"
      },
      "execution_count": 9,
      "outputs": [
        {
          "output_type": "stream",
          "name": "stdout",
          "text": [
            "5\n",
            "20 10 35 30 7\n",
            "7 35\n"
          ]
        }
      ]
    },
    {
      "cell_type": "markdown",
      "source": [
        "### 2562번"
      ],
      "metadata": {
        "id": "B8EP5fHlt50M"
      }
    },
    {
      "cell_type": "code",
      "source": [
        "arr = []\n",
        "\n",
        "for i in range(9):\n",
        "  arr.append(int(input()))\n",
        "\n",
        "print(max(arr))\n",
        "for i in range(9):\n",
        "  if max(arr) == arr[i]:\n",
        "    print((i+1))\n",
        "    break\n"
      ],
      "metadata": {
        "colab": {
          "base_uri": "https://localhost:8080/"
        },
        "id": "-jP3ZGw5t7a5",
        "outputId": "c304fd9a-afd9-4eec-8402-26dfb35ffc2e"
      },
      "execution_count": 14,
      "outputs": [
        {
          "output_type": "stream",
          "name": "stdout",
          "text": [
            "3\n",
            "29\n",
            "38\n",
            "12\n",
            "57\n",
            "74\n",
            "40\n",
            "85\n",
            "61\n",
            "85\n",
            "8\n"
          ]
        }
      ]
    },
    {
      "cell_type": "markdown",
      "source": [
        "배열을 먼저 선언 후, append를 이용해서 배열안에 값을 추가하는 형태, 최댓값은 max를 이용해서 찾고 그 값을 비교하여 i+1 값을 찾는다(만약 중복수가 있다면 오류가 발생할 가능성이 있다.)"
      ],
      "metadata": {
        "id": "xcGR1z7FvHcY"
      }
    },
    {
      "cell_type": "markdown",
      "source": [
        "### 10810번"
      ],
      "metadata": {
        "id": "XicJ8SUNvaX8"
      }
    },
    {
      "cell_type": "code",
      "source": [
        "N, M = map(int, input().split())\n",
        "\n",
        "arr = [0]*N #배열 초기화\n",
        "for cnt in range(M):\n",
        "  i,j,k = map(int, input().split())\n",
        "  for basket in range(i-1,j):\n",
        "    arr[basket] = k\n",
        "\n",
        "for basket in range(N):\n",
        "  print(arr[basket], end=\" \")"
      ],
      "metadata": {
        "colab": {
          "base_uri": "https://localhost:8080/"
        },
        "id": "-9i929GcveEX",
        "outputId": "4931de08-a815-420b-f5a9-2392ab93204b"
      },
      "execution_count": 17,
      "outputs": [
        {
          "output_type": "stream",
          "name": "stdout",
          "text": [
            "5 4\n",
            "1 2 3\n",
            "3 4 4\n",
            "1 4 1\n",
            "2 2 2\n",
            "1 2 1 1 0 "
          ]
        }
      ]
    },
    {
      "cell_type": "markdown",
      "source": [
        "### 10813번"
      ],
      "metadata": {
        "id": "Y3LWrzezxcC_"
      }
    },
    {
      "cell_type": "code",
      "source": [
        "N, M = map(int, input().split())\n",
        "\n",
        "arr = []\n",
        "for i in range(N):\n",
        "  arr.append(i+1)\n",
        "\n",
        "def swap(a,b):\n",
        "  tmp = arr[a-1]\n",
        "  arr[a-1] = arr[b-1]\n",
        "  arr[b-1] = tmp\n",
        "\n",
        "for num in range(M):\n",
        "  i, j = map(int, input().split())\n",
        "  swap(i,j)\n",
        "\n",
        "for i in range(N):\n",
        "  print(arr[i], end=\" \")"
      ],
      "metadata": {
        "colab": {
          "base_uri": "https://localhost:8080/"
        },
        "id": "77diwbVYxd3H",
        "outputId": "0128846b-c681-4691-c871-a17b4fb56257"
      },
      "execution_count": 20,
      "outputs": [
        {
          "output_type": "stream",
          "name": "stdout",
          "text": [
            "5 4\n",
            "1 2\n",
            "3 4\n",
            "1 4\n",
            "2 2\n",
            "3 1 4 2 5 "
          ]
        }
      ]
    },
    {
      "cell_type": "markdown",
      "source": [
        "### 5597번"
      ],
      "metadata": {
        "id": "vsz0_qMJyp8h"
      }
    },
    {
      "cell_type": "code",
      "source": [
        "arr = [0]*30\n",
        "\n",
        "for i in range(28):\n",
        "  arr[int(input())-1] = 1\n",
        "\n",
        "for i in range(30):\n",
        "  if arr[i] == 0:\n",
        "    print(i+1)"
      ],
      "metadata": {
        "colab": {
          "base_uri": "https://localhost:8080/"
        },
        "id": "xBpcHcktysOP",
        "outputId": "4ae00cf1-d8ef-4ff8-d23f-b23043b50d9f"
      },
      "execution_count": 22,
      "outputs": [
        {
          "output_type": "stream",
          "name": "stdout",
          "text": [
            "3\n",
            "1\n",
            "4\n",
            "5\n",
            "7\n",
            "9\n",
            "6\n",
            "10\n",
            "11\n",
            "12\n",
            "13\n",
            "14\n",
            "15\n",
            "16\n",
            "17\n",
            "18\n",
            "19\n",
            "20\n",
            "21\n",
            "22\n",
            "23\n",
            "24\n",
            "25\n",
            "26\n",
            "27\n",
            "28\n",
            "29\n",
            "30\n",
            "2\n",
            "8\n"
          ]
        }
      ]
    },
    {
      "cell_type": "markdown",
      "source": [
        "### 3052번"
      ],
      "metadata": {
        "id": "2pi0y-tFzY8P"
      }
    },
    {
      "cell_type": "code",
      "source": [
        "arr = []\n",
        "for i in range(10):\n",
        "  arr.append(int(input())%42)\n",
        "\n",
        "arr = set(arr)\n",
        "print(len(arr))"
      ],
      "metadata": {
        "id": "HrxLFojFzd79"
      },
      "execution_count": null,
      "outputs": []
    },
    {
      "cell_type": "markdown",
      "source": [
        "집합 자료형 set을 이용하여 나머지 배열의 중복을 제거 후 그 길이를 출력"
      ],
      "metadata": {
        "id": "1GJ4PmZez59h"
      }
    },
    {
      "cell_type": "markdown",
      "source": [
        "### 10811번"
      ],
      "metadata": {
        "id": "vKvGqYR50Ewk"
      }
    },
    {
      "cell_type": "code",
      "source": [
        "N, M = map(int, input().split())\n",
        "\n",
        "arr = list(range(1, N + 1))\n",
        "\n",
        "def reverse_a_to_b(arr, a, b):\n",
        "    sub_list = arr[a - 1:b]\n",
        "    sub_list.reverse()\n",
        "    arr[a - 1:b] = sub_list\n",
        "\n",
        "for num in range(M):\n",
        "  i, j = map(int, input().split())\n",
        "  reverse_a_to_b(arr, i,j)\n",
        "\n",
        "for i in range(N):\n",
        "  print(arr[i], end=\" \")"
      ],
      "metadata": {
        "colab": {
          "base_uri": "https://localhost:8080/"
        },
        "id": "Q_cjzuew0EbB",
        "outputId": "2f21a5e9-f182-4bb6-e413-e7841d9d4d8a"
      },
      "execution_count": 29,
      "outputs": [
        {
          "output_type": "stream",
          "name": "stdout",
          "text": [
            "5 4\n",
            "1 2\n",
            "3 4\n",
            "1 4\n",
            "2 2\n",
            "3 4 1 2 5 "
          ]
        }
      ]
    },
    {
      "cell_type": "markdown",
      "source": [
        "reverse를 이용하여 역순"
      ],
      "metadata": {
        "id": "o6IsZjv22Ftl"
      }
    },
    {
      "cell_type": "markdown",
      "source": [
        "### 1546번"
      ],
      "metadata": {
        "id": "X5ABQz9g2SAz"
      }
    },
    {
      "cell_type": "code",
      "source": [
        "N = int(input())\n",
        "score_list = list(map(int, input().split()))\n",
        "M = max(score_list)\n",
        "\n",
        "for i in range(N):\n",
        "    score_list[i] = score_list[i]/M*100\n",
        "\n",
        "print(sum(score_list)/N)"
      ],
      "metadata": {
        "colab": {
          "base_uri": "https://localhost:8080/",
          "height": 216
        },
        "id": "qXdnwOXT2RwQ",
        "outputId": "6c780db6-035e-4dab-a0d2-5b487b16fc1d"
      },
      "execution_count": 45,
      "outputs": [
        {
          "name": "stdout",
          "output_type": "stream",
          "text": [
            "3\n",
            "40 80 60\n"
          ]
        },
        {
          "output_type": "error",
          "ename": "TypeError",
          "evalue": "'int' object is not callable",
          "traceback": [
            "\u001b[0;31m---------------------------------------------------------------------------\u001b[0m",
            "\u001b[0;31mTypeError\u001b[0m                                 Traceback (most recent call last)",
            "\u001b[0;32m<ipython-input-45-72e2d1c1ac30>\u001b[0m in \u001b[0;36m<cell line: 0>\u001b[0;34m()\u001b[0m\n\u001b[1;32m      6\u001b[0m     \u001b[0mscore_list\u001b[0m\u001b[0;34m[\u001b[0m\u001b[0mi\u001b[0m\u001b[0;34m]\u001b[0m \u001b[0;34m=\u001b[0m \u001b[0mscore_list\u001b[0m\u001b[0;34m[\u001b[0m\u001b[0mi\u001b[0m\u001b[0;34m]\u001b[0m\u001b[0;34m/\u001b[0m\u001b[0mM\u001b[0m\u001b[0;34m*\u001b[0m\u001b[0;36m100\u001b[0m\u001b[0;34m\u001b[0m\u001b[0;34m\u001b[0m\u001b[0m\n\u001b[1;32m      7\u001b[0m \u001b[0;34m\u001b[0m\u001b[0m\n\u001b[0;32m----> 8\u001b[0;31m \u001b[0mprint\u001b[0m\u001b[0;34m(\u001b[0m\u001b[0msum\u001b[0m\u001b[0;34m(\u001b[0m\u001b[0mscore_list\u001b[0m\u001b[0;34m)\u001b[0m\u001b[0;34m/\u001b[0m\u001b[0mN\u001b[0m\u001b[0;34m)\u001b[0m\u001b[0;34m\u001b[0m\u001b[0;34m\u001b[0m\u001b[0m\n\u001b[0m",
            "\u001b[0;31mTypeError\u001b[0m: 'int' object is not callable"
          ]
        }
      ]
    },
    {
      "cell_type": "markdown",
      "source": [
        "온라인 디버거에서 작동됨을 확인함"
      ],
      "metadata": {
        "id": "FLlMzn1Q5tDK"
      }
    }
  ]
}