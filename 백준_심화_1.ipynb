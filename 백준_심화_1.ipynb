{
  "nbformat": 4,
  "nbformat_minor": 0,
  "metadata": {
    "colab": {
      "provenance": [],
      "authorship_tag": "ABX9TyOyAuELf3xoenmYvqk9iAA+",
      "include_colab_link": true
    },
    "kernelspec": {
      "name": "python3",
      "display_name": "Python 3"
    },
    "language_info": {
      "name": "python"
    }
  },
  "cells": [
    {
      "cell_type": "markdown",
      "metadata": {
        "id": "view-in-github",
        "colab_type": "text"
      },
      "source": [
        "<a href=\"https://colab.research.google.com/github/redroced/Backjoon_practicenote_python/blob/main/%EB%B0%B1%EC%A4%80_%EC%8B%AC%ED%99%94_1.ipynb\" target=\"_parent\"><img src=\"https://colab.research.google.com/assets/colab-badge.svg\" alt=\"Open In Colab\"/></a>"
      ]
    },
    {
      "cell_type": "markdown",
      "source": [
        "### 25083번"
      ],
      "metadata": {
        "id": "el3lUA__D3lX"
      }
    },
    {
      "cell_type": "code",
      "source": [
        "print(\"         ,r'\\\"7\")\n",
        "print(\"r`-_   ,'  ,/\")\n",
        "print(\" \\. \\\". L_r'\")\n",
        "print(\"   `~\\/\")\n",
        "print(\"      |\")\n",
        "print(\"      |\")"
      ],
      "metadata": {
        "colab": {
          "base_uri": "https://localhost:8080/"
        },
        "id": "Wmjtob3dEwaz",
        "outputId": "8ed873a7-441e-4e49-d515-58f29706f90c"
      },
      "execution_count": null,
      "outputs": [
        {
          "output_type": "stream",
          "name": "stdout",
          "text": [
            "         ,r'\"7\n",
            "r`-_   ,'  ,/\n",
            " \\. \". L_r'\n",
            "   `~\\/\n",
            "      |\n",
            "      |\n"
          ]
        }
      ]
    },
    {
      "cell_type": "markdown",
      "source": [
        "\" ' 문자를 출력하고 싶을때는 \"\\\"를 앞에 추가한다"
      ],
      "metadata": {
        "id": "sCFH3bkeFIan"
      }
    },
    {
      "cell_type": "markdown",
      "source": [
        "### 3003번"
      ],
      "metadata": {
        "id": "soqr8bszD4z7"
      }
    },
    {
      "cell_type": "code",
      "source": [
        "chess = [1, 1, 2, 2, 2, 8]\n",
        "\n",
        "arr = list(map(int, input().split()))\n",
        "for i in range(len(chess)):\n",
        "  print(chess[i] - arr[i], end=' ')"
      ],
      "metadata": {
        "colab": {
          "base_uri": "https://localhost:8080/"
        },
        "id": "kO9wX68lFdio",
        "outputId": "a30ab09a-aa5e-4ff5-d1a3-a9fff58201a2"
      },
      "execution_count": null,
      "outputs": [
        {
          "output_type": "stream",
          "name": "stdout",
          "text": [
            "0 1 2 2 2 7\n",
            "1 0 0 0 0 1 "
          ]
        }
      ]
    },
    {
      "cell_type": "markdown",
      "source": [
        "### 2444번"
      ],
      "metadata": {
        "id": "5ripI811D6E1"
      }
    },
    {
      "cell_type": "code",
      "source": [
        "N = int(input())\n",
        "\n",
        "for i in range(1, N):\n",
        "    print(' '*(N-i) + '*'*(2*i-1))\n",
        "for i in range(N, 0, -1):\n",
        "    print(' '*(N-i) + '*'*(2*i-1))"
      ],
      "metadata": {
        "colab": {
          "base_uri": "https://localhost:8080/"
        },
        "id": "tuPyVtJ_G1h-",
        "outputId": "703015a5-abfe-4847-c8b2-e49ff3519ddb"
      },
      "execution_count": null,
      "outputs": [
        {
          "output_type": "stream",
          "name": "stdout",
          "text": [
            "5\n",
            "    *\n",
            "   ***\n",
            "  *****\n",
            " *******\n",
            "*********\n",
            " *******\n",
            "  *****\n",
            "   ***\n",
            "    *\n"
          ]
        }
      ]
    },
    {
      "cell_type": "markdown",
      "source": [
        "### 10988번"
      ],
      "metadata": {
        "id": "NAEnXQs7D7yx"
      }
    },
    {
      "cell_type": "code",
      "source": [
        "T = input()\n",
        "\n",
        "if T == T[::-1]:\n",
        "  print(1)\n",
        "else:\n",
        "  print(0)"
      ],
      "metadata": {
        "colab": {
          "base_uri": "https://localhost:8080/"
        },
        "id": "AoNEiegkI8-b",
        "outputId": "40ba52b6-dcdd-4fa5-8908-3038f2762147"
      },
      "execution_count": null,
      "outputs": [
        {
          "output_type": "stream",
          "name": "stdout",
          "text": [
            "level\n",
            "1\n"
          ]
        }
      ]
    },
    {
      "cell_type": "markdown",
      "source": [
        "### 1157번"
      ],
      "metadata": {
        "id": "EW8RcscRD9Jv"
      }
    },
    {
      "cell_type": "code",
      "source": [
        "T = input().upper()\n",
        "T_list = list(set(T))\n",
        "\n",
        "cnt = []\n",
        "for i in T_list:\n",
        "  cnt.append(T.count(i))\n",
        "\n",
        "if cnt.count(max(cnt)) > 1:\n",
        "  print('?')\n",
        "\n",
        "else:\n",
        "  print(T_list[(cnt.index(max(cnt)))])"
      ],
      "metadata": {
        "id": "Qg_NzTnkI9h4",
        "colab": {
          "base_uri": "https://localhost:8080/"
        },
        "outputId": "15785959-8533-4ab4-8ba1-8778c6337b8d"
      },
      "execution_count": 34,
      "outputs": [
        {
          "output_type": "stream",
          "name": "stdout",
          "text": [
            "baaa\n",
            "A\n"
          ]
        }
      ]
    },
    {
      "cell_type": "markdown",
      "source": [
        "대문자 만드는 함수 upper(), set() 집합자료형"
      ],
      "metadata": {
        "id": "qemlG0IXLG62"
      }
    },
    {
      "cell_type": "markdown",
      "source": [
        "### 2941번"
      ],
      "metadata": {
        "id": "N04DqNG_D-bb"
      }
    },
    {
      "cell_type": "code",
      "source": [
        "T = input()\n",
        "croatia = ['c=', 'c-', 'dz=', 'd-', 'lj', 'nj', 's=', 'z=']\n",
        "\n",
        "for i in croatia:\n",
        "  T = T.replace(i, '1') #croatia 리스트 안에 글자가 있으면 1로 변환\n",
        "\n",
        "print(len(T))"
      ],
      "metadata": {
        "colab": {
          "base_uri": "https://localhost:8080/"
        },
        "id": "rk7ILP89Owe7",
        "outputId": "32a8178f-de32-488b-b94d-93294208c377"
      },
      "execution_count": 40,
      "outputs": [
        {
          "output_type": "stream",
          "name": "stdout",
          "text": [
            "ddz=z=\n",
            "3\n"
          ]
        }
      ]
    },
    {
      "cell_type": "markdown",
      "source": [
        "replace 함수 : 문자열 안에서 특정 문자를 새로운 문자로 변경"
      ],
      "metadata": {
        "id": "Gy1SnTTGPk8y"
      }
    },
    {
      "cell_type": "markdown",
      "source": [
        "### 1316번"
      ],
      "metadata": {
        "id": "-A4gqM9gD__u"
      }
    },
    {
      "cell_type": "code",
      "source": [
        "N = int(input())\n",
        "cnt = N\n",
        "\n",
        "for i in range(N):\n",
        "  T = input()\n",
        "  for j in range(len(T)-1):\n",
        "    if T[j] == T[j+1]:\n",
        "      pass\n",
        "    elif T[j] in T[j+1:]: #T[j+1:] j+1이후의 위치에 T[j]가 존재하는가?\n",
        "      cnt -= 1\n",
        "      break\n",
        "\n",
        "print(cnt)"
      ],
      "metadata": {
        "id": "DfkNCWhLI9wM",
        "colab": {
          "base_uri": "https://localhost:8080/"
        },
        "outputId": "9c43cb7a-3be6-4fb5-921f-edf9598cc3b0"
      },
      "execution_count": 37,
      "outputs": [
        {
          "output_type": "stream",
          "name": "stdout",
          "text": [
            "4\n",
            "aba\n",
            "abab\n",
            "abcabc\n",
            "a\n",
            "1\n"
          ]
        }
      ]
    },
    {
      "cell_type": "markdown",
      "source": [
        "in, not in : 값이 있는지 확인 (리스트, 문자열, 튜플, 딕셔너리 등)"
      ],
      "metadata": {
        "id": "MmjTF_grNQoT"
      }
    },
    {
      "cell_type": "markdown",
      "source": [
        "### 25206번"
      ],
      "metadata": {
        "id": "zGlrTYWIEBHk"
      }
    },
    {
      "cell_type": "code",
      "execution_count": 47,
      "metadata": {
        "id": "IL0DKrLDDxly",
        "colab": {
          "base_uri": "https://localhost:8080/"
        },
        "outputId": "3a67228d-7c8d-48ae-db20-08770603029c"
      },
      "outputs": [
        {
          "output_type": "stream",
          "name": "stdout",
          "text": [
            "ObjectOrientedProgramming1 3.0 A+\n",
            "IntroductiontoComputerEngineering 3.0 A+\n",
            "ObjectOrientedProgramming2 3.0 A0\n",
            "CreativeComputerEngineeringDesign 3.0 A+\n",
            "AssemblyLanguage 3.0 A+\n",
            "InternetProgramming 3.0 B0\n",
            "ApplicationProgramminginJava 3.0 A0\n",
            "SystemProgramming 3.0 B0\n",
            "OperatingSystem 3.0 B0\n",
            "WirelessCommunicationsandNetworking 3.0 C+\n",
            "LogicCircuits 3.0 B0\n",
            "DataStructure 4.0 A+\n",
            "MicroprocessorApplication 3.0 B+\n",
            "EmbeddedSoftware 3.0 C0\n",
            "ComputerSecurity 3.0 D+\n",
            "Database 3.0 C+\n",
            "Algorithm 3.0 B0\n",
            "CapstoneDesigninCSE 3.0 B+\n",
            "CompilerDesign 3.0 D0\n",
            "ProblemSolving 4.0 P\n",
            "3.2844827586206895\n"
          ]
        }
      ],
      "source": [
        "rating_list_point = [4.5, 4.0, 3.5, 3.0, 2.5, 2.0, 1.5, 1.0, 0.0]\n",
        "rating_list = ['A+', 'A0', 'B+', 'B0', 'C+', 'C0', 'D+', 'D0', 'F']\n",
        "\n",
        "total_grade_points = []\n",
        "total_ratings = []\n",
        "for i in range(20):\n",
        "  name, grade, rating = input().split()\n",
        "  grade = float(grade)\n",
        "\n",
        "  if rating != 'P':\n",
        "      for i in range(len(rating_list)):\n",
        "        if rating_list[i] == rating:\n",
        "          total_grade_points.append(rating_list_point[i]*grade)\n",
        "          total_ratings.append(grade)\n",
        "\n",
        "print(sum(total_grade_points)/sum(total_ratings))"
      ]
    }
  ]
}