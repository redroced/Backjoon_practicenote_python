{
  "nbformat": 4,
  "nbformat_minor": 0,
  "metadata": {
    "colab": {
      "provenance": [],
      "authorship_tag": "ABX9TyMhbDyO9jXKtP4XhCngtmzb",
      "include_colab_link": true
    },
    "kernelspec": {
      "name": "python3",
      "display_name": "Python 3"
    },
    "language_info": {
      "name": "python"
    }
  },
  "cells": [
    {
      "cell_type": "markdown",
      "metadata": {
        "id": "view-in-github",
        "colab_type": "text"
      },
      "source": [
        "<a href=\"https://colab.research.google.com/github/redroced/Backjoon_practicenote_python/blob/main/%EB%B0%B1%EC%A4%80_%EB%B0%98%EB%B3%B5%EB%AC%B8.ipynb\" target=\"_parent\"><img src=\"https://colab.research.google.com/assets/colab-badge.svg\" alt=\"Open In Colab\"/></a>"
      ]
    },
    {
      "cell_type": "markdown",
      "source": [
        "백준의 문제들을 python으로 풀어보자"
      ],
      "metadata": {
        "id": "TWJWvOP8l8xn"
      }
    },
    {
      "cell_type": "markdown",
      "source": [
        "### 25304번"
      ],
      "metadata": {
        "id": "BmNXOQ9JeA-k"
      }
    },
    {
      "cell_type": "code",
      "execution_count": null,
      "metadata": {
        "id": "fYjgIdCGEdOC",
        "outputId": "40f5798c-90e4-443b-eb15-116f3cf71329",
        "colab": {
          "base_uri": "https://localhost:8080/"
        }
      },
      "outputs": [
        {
          "output_type": "stream",
          "name": "stdout",
          "text": [
            "260000\n",
            "4\n",
            "20000 5\n",
            "3000 2\n",
            "10000 6\n",
            "5000 8\n",
            "No\n"
          ]
        }
      ],
      "source": [
        "X = int(input())\n",
        "N = int(input())\n",
        "\n",
        "sum = 0\n",
        "for i in range(N):\n",
        "  sale, cnt = map(int,input().split())\n",
        "  sum += sale * cnt\n",
        "\n",
        "if X == sum:\n",
        "  print(\"Yes\")\n",
        "else:\n",
        "  print(\"No\")"
      ]
    },
    {
      "cell_type": "markdown",
      "source": [
        "map(int.input().split())으로 다중 입력 수행,\n",
        "if else 문으로 print"
      ],
      "metadata": {
        "id": "aC_b_w0_eJYg"
      }
    },
    {
      "cell_type": "markdown",
      "source": [
        "### 25314번"
      ],
      "metadata": {
        "id": "QCvELCdUeL5E"
      }
    },
    {
      "cell_type": "code",
      "source": [
        "N = int(input())\n",
        "\n",
        "for i in range(N//4):\n",
        "  print(\"long \", end=\"\")\n",
        "\n",
        "print(\"int\")"
      ],
      "metadata": {
        "colab": {
          "base_uri": "https://localhost:8080/"
        },
        "id": "NxU-GZtRecuB",
        "outputId": "4546d626-2835-4046-c93a-f1a170ca4a99"
      },
      "execution_count": null,
      "outputs": [
        {
          "output_type": "stream",
          "name": "stdout",
          "text": [
            "4\n",
            "long int\n"
          ]
        }
      ]
    },
    {
      "cell_type": "markdown",
      "source": [
        "N//4로 몫 값 지정, print(\"string\", end=\"\")을 이용해서 줄바꿈 없이 출력"
      ],
      "metadata": {
        "id": "SBT-FoUtfN_Q"
      }
    },
    {
      "cell_type": "markdown",
      "source": [
        "### 15552번"
      ],
      "metadata": {
        "id": "pDczsT3YfvQ_"
      }
    },
    {
      "cell_type": "code",
      "source": [
        "import sys\n",
        "\n",
        "N = int(input())\n",
        "\n",
        "for i in range(N):\n",
        "  a,b = map(int, sys.stdin.readline().split())\n",
        "  print(a+b)"
      ],
      "metadata": {
        "colab": {
          "base_uri": "https://localhost:8080/",
          "height": 223
        },
        "id": "Sl3fuVoAfT-k",
        "outputId": "3410c9e8-76b4-4d44-a805-9646965121b0"
      },
      "execution_count": null,
      "outputs": [
        {
          "name": "stdout",
          "output_type": "stream",
          "text": [
            "5\n"
          ]
        },
        {
          "output_type": "error",
          "ename": "ValueError",
          "evalue": "not enough values to unpack (expected 2, got 0)",
          "traceback": [
            "\u001b[0;31m---------------------------------------------------------------------------\u001b[0m",
            "\u001b[0;31mValueError\u001b[0m                                Traceback (most recent call last)",
            "\u001b[0;32m<ipython-input-16-1d60ccb743e9>\u001b[0m in \u001b[0;36m<cell line: 0>\u001b[0;34m()\u001b[0m\n\u001b[1;32m      4\u001b[0m \u001b[0;34m\u001b[0m\u001b[0m\n\u001b[1;32m      5\u001b[0m \u001b[0;32mfor\u001b[0m \u001b[0mi\u001b[0m \u001b[0;32min\u001b[0m \u001b[0mrange\u001b[0m\u001b[0;34m(\u001b[0m\u001b[0mN\u001b[0m\u001b[0;34m)\u001b[0m\u001b[0;34m:\u001b[0m\u001b[0;34m\u001b[0m\u001b[0;34m\u001b[0m\u001b[0m\n\u001b[0;32m----> 6\u001b[0;31m   \u001b[0ma\u001b[0m\u001b[0;34m,\u001b[0m\u001b[0mb\u001b[0m \u001b[0;34m=\u001b[0m \u001b[0mmap\u001b[0m\u001b[0;34m(\u001b[0m\u001b[0mint\u001b[0m\u001b[0;34m,\u001b[0m \u001b[0msys\u001b[0m\u001b[0;34m.\u001b[0m\u001b[0mstdin\u001b[0m\u001b[0;34m.\u001b[0m\u001b[0mreadline\u001b[0m\u001b[0;34m(\u001b[0m\u001b[0;34m)\u001b[0m\u001b[0;34m.\u001b[0m\u001b[0msplit\u001b[0m\u001b[0;34m(\u001b[0m\u001b[0;34m)\u001b[0m\u001b[0;34m)\u001b[0m\u001b[0;34m\u001b[0m\u001b[0;34m\u001b[0m\u001b[0m\n\u001b[0m\u001b[1;32m      7\u001b[0m   \u001b[0mprint\u001b[0m\u001b[0;34m(\u001b[0m\u001b[0ma\u001b[0m\u001b[0;34m+\u001b[0m\u001b[0mb\u001b[0m\u001b[0;34m)\u001b[0m\u001b[0;34m\u001b[0m\u001b[0;34m\u001b[0m\u001b[0m\n",
            "\u001b[0;31mValueError\u001b[0m: not enough values to unpack (expected 2, got 0)"
          ]
        }
      ]
    },
    {
      "cell_type": "markdown",
      "source": [
        "Colab에서는 코드 셀을 한 번에 실행하는데, 이 코드는 여러 번의 입력을 기다리므로 실행 흐름이 중단되기 때문에 오류가 발생함, 온라인 컴파일러에서는 정상 작동을 확인함"
      ],
      "metadata": {
        "id": "VZjpQkdlhuo7"
      }
    },
    {
      "cell_type": "markdown",
      "source": [
        "### 11021번"
      ],
      "metadata": {
        "id": "DLndbZlBgJZa"
      }
    },
    {
      "cell_type": "code",
      "source": [
        "T = int(input())\n",
        "\n",
        "for i in range(T):\n",
        "  a,b = map(int, input().split())\n",
        "  print(\"Case #%d: %d\" %(i+1, a+b))"
      ],
      "metadata": {
        "colab": {
          "base_uri": "https://localhost:8080/"
        },
        "id": "RswUI1n5gJJt",
        "outputId": "b7c75524-c393-4122-db46-2f4b7a539cc3"
      },
      "execution_count": null,
      "outputs": [
        {
          "output_type": "stream",
          "name": "stdout",
          "text": [
            "5\n",
            "1 1\n",
            "Case #1: 2\n",
            "2 3\n",
            "Case #2: 5\n",
            "3 4\n",
            "Case #3: 7\n",
            "9 8\n",
            "Case #4: 17\n",
            "5 2\n",
            "Case #5: 7\n"
          ]
        }
      ]
    },
    {
      "cell_type": "markdown",
      "source": [
        "### 11022번"
      ],
      "metadata": {
        "id": "fh5J2K-giqrk"
      }
    },
    {
      "cell_type": "code",
      "source": [
        "T = int(input())\n",
        "\n",
        "for i in range(T):\n",
        "  a,b = map(int, input().split())\n",
        "  print(\"Case #%d: %d + %d = %d\" %(i+1, a, b, a+b))"
      ],
      "metadata": {
        "colab": {
          "base_uri": "https://localhost:8080/"
        },
        "id": "WpjiCsZvisXL",
        "outputId": "b71f8c49-20d8-4f30-df1c-148749ac2927"
      },
      "execution_count": null,
      "outputs": [
        {
          "output_type": "stream",
          "name": "stdout",
          "text": [
            "5\n",
            "1 1\n",
            "Case #1: 1 + 1 = 2\n",
            "2 3\n",
            "Case #2: 2 + 3 = 5\n",
            "3 4\n",
            "Case #3: 3 + 4 = 7\n",
            "9 8\n",
            "Case #4: 9 + 8 = 17\n",
            "5 2\n",
            "Case #5: 5 + 2 = 7\n"
          ]
        }
      ]
    },
    {
      "cell_type": "markdown",
      "source": [
        "### 2438번"
      ],
      "metadata": {
        "id": "P4-gT4txjIMQ"
      }
    },
    {
      "cell_type": "code",
      "source": [
        "N = int(input())\n",
        "\n",
        "for i in range(N):\n",
        "  for j in range(i+1):\n",
        "    print(\"*\", end=\"\")\n",
        "  print(\"\\n\", end=\"\")"
      ],
      "metadata": {
        "colab": {
          "base_uri": "https://localhost:8080/"
        },
        "id": "YzhcA5jIjJpN",
        "outputId": "ed95e690-61a7-4711-9d2e-e9afae2c0b7c"
      },
      "execution_count": null,
      "outputs": [
        {
          "output_type": "stream",
          "name": "stdout",
          "text": [
            "5\n",
            "*\n",
            "**\n",
            "***\n",
            "****\n",
            "*****\n"
          ]
        }
      ]
    },
    {
      "cell_type": "code",
      "source": [
        "for i in range(int(input())):\n",
        "  print(\"*\"*(i+1))"
      ],
      "metadata": {
        "colab": {
          "base_uri": "https://localhost:8080/"
        },
        "id": "6M0QDDQmkBdy",
        "outputId": "6f3a5ac9-5f19-4623-d023-50bc9327a4d4"
      },
      "execution_count": null,
      "outputs": [
        {
          "output_type": "stream",
          "name": "stdout",
          "text": [
            "5\n",
            "*\n",
            "**\n",
            "***\n",
            "****\n",
            "*****\n"
          ]
        }
      ]
    },
    {
      "cell_type": "markdown",
      "source": [
        "print(\"*\"*(i+1)) python에서 가능하다는 것을 알았다"
      ],
      "metadata": {
        "id": "9Q5aPPXskGrX"
      }
    },
    {
      "cell_type": "markdown",
      "source": [
        "### 2439번"
      ],
      "metadata": {
        "id": "OcSku3dEkVbs"
      }
    },
    {
      "cell_type": "code",
      "source": [
        "N = int(input())\n",
        "\n",
        "for i in range(N):\n",
        "  print(\" \"*(N-(i+1))+\"*\"*(i+1))"
      ],
      "metadata": {
        "colab": {
          "base_uri": "https://localhost:8080/"
        },
        "id": "8kdKCRrjkXSV",
        "outputId": "3b8b3966-ab0c-4476-d0de-1e4a4b7cab9c"
      },
      "execution_count": 33,
      "outputs": [
        {
          "output_type": "stream",
          "name": "stdout",
          "text": [
            "5\n",
            "    *\n",
            "   **\n",
            "  ***\n",
            " ****\n",
            "*****\n"
          ]
        }
      ]
    },
    {
      "cell_type": "markdown",
      "source": [
        "print문 안쪽에서 두 문자를 사용하려면 +를 사용한다."
      ],
      "metadata": {
        "id": "HuE1iS1jmKwp"
      }
    },
    {
      "cell_type": "markdown",
      "source": [
        "### 10952번"
      ],
      "metadata": {
        "id": "8rcrYtygmGwx"
      }
    },
    {
      "cell_type": "code",
      "source": [
        "while True:\n",
        "  a,b = map(int, input().split())\n",
        "  if(a==0 and b==0): break\n",
        "  print(a+b)"
      ],
      "metadata": {
        "colab": {
          "base_uri": "https://localhost:8080/"
        },
        "id": "cJgOcoGMmDi0",
        "outputId": "7f1e8c96-f09b-4605-dfa2-c7252b1939cd"
      },
      "execution_count": null,
      "outputs": [
        {
          "name": "stdout",
          "output_type": "stream",
          "text": [
            "1 1\n",
            "2\n",
            "2 3\n",
            "5\n",
            "3 4\n",
            "7\n",
            "9 8\n",
            "17\n",
            "5 2\n",
            "7\n",
            "0 0\n"
          ]
        }
      ]
    },
    {
      "cell_type": "markdown",
      "source": [
        "### 10951번\n"
      ],
      "metadata": {
        "id": "qvLmHeuinhDN"
      }
    },
    {
      "cell_type": "code",
      "source": [
        "while True:\n",
        "    try:\n",
        "        A, B = map(int, input().split())\n",
        "        print(A+B)\n",
        "    except:\n",
        "        break"
      ],
      "metadata": {
        "id": "BK1LpdcWnj3L"
      },
      "execution_count": null,
      "outputs": []
    },
    {
      "cell_type": "markdown",
      "source": [
        "try except 구문으로 예외의 경우 break"
      ],
      "metadata": {
        "id": "GzdyXhuwofky"
      }
    }
  ]
}